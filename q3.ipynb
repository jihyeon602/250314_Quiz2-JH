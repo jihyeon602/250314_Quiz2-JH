{
 "cells": [
  {
   "cell_type": "code",
   "execution_count": 1,
   "metadata": {},
   "outputs": [
    {
     "name": "stdout",
     "output_type": "stream",
     "text": [
      "누락된 데이터(Missing Data)를 제거하기 전의 데이터 정보\n",
      "<class 'pandas.core.frame.DataFrame'>\n",
      "RangeIndex: 1000 entries, 0 to 999\n",
      "Data columns (total 9 columns):\n",
      " #   Column             Non-Null Count  Dtype  \n",
      "---  ------             --------------  -----  \n",
      " 0   Unnamed: 0         1000 non-null   int64  \n",
      " 1   id                 1000 non-null   int64  \n",
      " 2   pickup_datetime    1000 non-null   object \n",
      " 3   pickup_latitude    1000 non-null   int64  \n",
      " 4   pickup_longitude   1000 non-null   int64  \n",
      " 5   dropoff_latitude   991 non-null    float64\n",
      " 6   dropoff_longitude  992 non-null    float64\n",
      " 7   passenger_count    1000 non-null   int64  \n",
      " 8   fare_amount        1000 non-null   int64  \n",
      "dtypes: float64(2), int64(6), object(1)\n",
      "memory usage: 70.4+ KB\n"
     ]
    }
   ],
   "source": [
    "import pandas as pd\n",
    "import numpy as np\n",
    "\n",
    "# 데이터 주소\n",
    "DATA_PATH = 'data/taxi_fare_data.csv'\n",
    "\n",
    "# pandas를 이용하여 데이터를 DataFrame의 형태로 불러오는 load_csv 함수를 설정합니다.\n",
    "def load_csv(path):\n",
    "    data_frame = pd.read_csv(path)\n",
    "    return data_frame\n",
    "\n",
    "# load_csv 함수를 사용하여 데이터를 불러와 df에 저장합니다.\n",
    "df = load_csv(DATA_PATH)\n",
    "\n",
    "print(\"누락된 데이터(Missing Data)를 제거하기 전의 데이터 정보\")\n",
    "df.info()"
   ]
  },
  {
   "cell_type": "code",
   "execution_count": 4,
   "metadata": {},
   "outputs": [
    {
     "data": {
      "text/html": [
       "<div>\n",
       "<style scoped>\n",
       "    .dataframe tbody tr th:only-of-type {\n",
       "        vertical-align: middle;\n",
       "    }\n",
       "\n",
       "    .dataframe tbody tr th {\n",
       "        vertical-align: top;\n",
       "    }\n",
       "\n",
       "    .dataframe thead th {\n",
       "        text-align: right;\n",
       "    }\n",
       "</style>\n",
       "<table border=\"1\" class=\"dataframe\">\n",
       "  <thead>\n",
       "    <tr style=\"text-align: right;\">\n",
       "      <th></th>\n",
       "      <th>Unnamed: 0</th>\n",
       "      <th>id</th>\n",
       "      <th>pickup_datetime</th>\n",
       "      <th>pickup_latitude</th>\n",
       "      <th>pickup_longitude</th>\n",
       "      <th>dropoff_latitude</th>\n",
       "      <th>dropoff_longitude</th>\n",
       "      <th>passenger_count</th>\n",
       "      <th>fare_amount</th>\n",
       "    </tr>\n",
       "  </thead>\n",
       "  <tbody>\n",
       "    <tr>\n",
       "      <th>0</th>\n",
       "      <td>0</td>\n",
       "      <td>4142</td>\n",
       "      <td>2015-01-07 15:32</td>\n",
       "      <td>-263</td>\n",
       "      <td>-374</td>\n",
       "      <td>396.0</td>\n",
       "      <td>67.0</td>\n",
       "      <td>-2</td>\n",
       "      <td>31</td>\n",
       "    </tr>\n",
       "    <tr>\n",
       "      <th>1</th>\n",
       "      <td>1</td>\n",
       "      <td>1392</td>\n",
       "      <td>2015-10-21 22:52</td>\n",
       "      <td>-65</td>\n",
       "      <td>-44</td>\n",
       "      <td>39.0</td>\n",
       "      <td>62.0</td>\n",
       "      <td>2</td>\n",
       "      <td>74</td>\n",
       "    </tr>\n",
       "    <tr>\n",
       "      <th>2</th>\n",
       "      <td>2</td>\n",
       "      <td>4606</td>\n",
       "      <td>2017-05-07 3:25</td>\n",
       "      <td>442</td>\n",
       "      <td>424</td>\n",
       "      <td>458.0</td>\n",
       "      <td>328.0</td>\n",
       "      <td>-2</td>\n",
       "      <td>6</td>\n",
       "    </tr>\n",
       "    <tr>\n",
       "      <th>3</th>\n",
       "      <td>3</td>\n",
       "      <td>1600</td>\n",
       "      <td>2017-05-14 9:57</td>\n",
       "      <td>-349</td>\n",
       "      <td>269</td>\n",
       "      <td>-340.0</td>\n",
       "      <td>143.0</td>\n",
       "      <td>-2</td>\n",
       "      <td>66</td>\n",
       "    </tr>\n",
       "    <tr>\n",
       "      <th>4</th>\n",
       "      <td>4</td>\n",
       "      <td>4332</td>\n",
       "      <td>2017-04-11 16:01</td>\n",
       "      <td>-119</td>\n",
       "      <td>264</td>\n",
       "      <td>-243.0</td>\n",
       "      <td>494.0</td>\n",
       "      <td>2</td>\n",
       "      <td>88</td>\n",
       "    </tr>\n",
       "  </tbody>\n",
       "</table>\n",
       "</div>"
      ],
      "text/plain": [
       "   Unnamed: 0    id   pickup_datetime  pickup_latitude  pickup_longitude  \\\n",
       "0           0  4142  2015-01-07 15:32             -263              -374   \n",
       "1           1  1392  2015-10-21 22:52              -65               -44   \n",
       "2           2  4606   2017-05-07 3:25              442               424   \n",
       "3           3  1600   2017-05-14 9:57             -349               269   \n",
       "4           4  4332  2017-04-11 16:01             -119               264   \n",
       "\n",
       "   dropoff_latitude  dropoff_longitude  passenger_count  fare_amount  \n",
       "0             396.0               67.0               -2           31  \n",
       "1              39.0               62.0                2           74  \n",
       "2             458.0              328.0               -2            6  \n",
       "3            -340.0              143.0               -2           66  \n",
       "4            -243.0              494.0                2           88  "
      ]
     },
     "execution_count": 4,
     "metadata": {},
     "output_type": "execute_result"
    }
   ],
   "source": [
    "df.head()"
   ]
  },
  {
   "cell_type": "code",
   "execution_count": 15,
   "metadata": {},
   "outputs": [
    {
     "name": "stdout",
     "output_type": "stream",
     "text": [
      "     id   pickup_datetime  pickup_latitude  pickup_longitude  \\\n",
      "0  4142  2015-01-07 15:32             -263              -374   \n",
      "1  1392  2015-10-21 22:52              -65               -44   \n",
      "2  4606   2017-05-07 3:25              442               424   \n",
      "3  1600   2017-05-14 9:57             -349               269   \n",
      "4  4332  2017-04-11 16:01             -119               264   \n",
      "\n",
      "   dropoff_latitude  dropoff_longitude  passenger_count  fare_amount  \n",
      "0             396.0               67.0               -2           31  \n",
      "1              39.0               62.0                2           74  \n",
      "2             458.0              328.0               -2            6  \n",
      "3            -340.0              143.0               -2           66  \n",
      "4            -243.0              494.0                2           88  \n"
     ]
    }
   ],
   "source": [
    "# df에서 \"Unnamed: 0\" 컬럼을 제거하고 del_un_df에 저장합니다.\n",
    "del_un_df = df.drop(columns='Unnamed: 0')\n",
    "print(del_un_df.head())"
   ]
  },
  {
   "cell_type": "code",
   "execution_count": 16,
   "metadata": {},
   "outputs": [
    {
     "name": "stdout",
     "output_type": "stream",
     "text": [
      "    pickup_datetime  pickup_latitude  pickup_longitude  dropoff_latitude  \\\n",
      "0  2015-01-07 15:32             -263              -374             396.0   \n",
      "1  2015-10-21 22:52              -65               -44              39.0   \n",
      "2   2017-05-07 3:25              442               424             458.0   \n",
      "3   2017-05-14 9:57             -349               269            -340.0   \n",
      "4  2017-04-11 16:01             -119               264            -243.0   \n",
      "\n",
      "   dropoff_longitude  passenger_count  fare_amount  \n",
      "0               67.0               -2           31  \n",
      "1               62.0                2           74  \n",
      "2              328.0               -2            6  \n",
      "3              143.0               -2           66  \n",
      "4              494.0                2           88  \n"
     ]
    }
   ],
   "source": [
    "# del_un_df에서 \"id\" 컬럼을 제거하고 del_un_id_df에 저장합니다.\n",
    "del_un_id_df = del_un_df.drop(columns='id')\n",
    "print(del_un_id_df.head())"
   ]
  },
  {
   "cell_type": "code",
   "execution_count": 20,
   "metadata": {},
   "outputs": [
    {
     "name": "stdout",
     "output_type": "stream",
     "text": [
      "\n",
      "결측치(Missing Data)를 제거한 후의 데이터 정보\n",
      "<class 'pandas.core.frame.DataFrame'>\n",
      "Index: 991 entries, 0 to 999\n",
      "Data columns (total 7 columns):\n",
      " #   Column             Non-Null Count  Dtype  \n",
      "---  ------             --------------  -----  \n",
      " 0   pickup_datetime    991 non-null    object \n",
      " 1   pickup_latitude    991 non-null    int64  \n",
      " 2   pickup_longitude   991 non-null    int64  \n",
      " 3   dropoff_latitude   991 non-null    float64\n",
      " 4   dropoff_longitude  991 non-null    float64\n",
      " 5   passenger_count    991 non-null    int64  \n",
      " 6   fare_amount        991 non-null    int64  \n",
      "dtypes: float64(2), int64(4), object(1)\n",
      "memory usage: 61.9+ KB\n",
      "None\n"
     ]
    }
   ],
   "source": [
    "# del_un_id_df의 결측치가 포함된 행을 제거하고 removed_df에 저장합니다.\n",
    "removed_df = del_un_id_df.dropna(axis=0)\n",
    "print(\"\\n결측치(Missing Data)를 제거한 후의 데이터 정보\")\n",
    "print(removed_df.info())"
   ]
  }
 ],
 "metadata": {
  "kernelspec": {
   "display_name": "base",
   "language": "python",
   "name": "python3"
  },
  "language_info": {
   "codemirror_mode": {
    "name": "ipython",
    "version": 3
   },
   "file_extension": ".py",
   "mimetype": "text/x-python",
   "name": "python",
   "nbconvert_exporter": "python",
   "pygments_lexer": "ipython3",
   "version": "3.12.7"
  }
 },
 "nbformat": 4,
 "nbformat_minor": 2
}
