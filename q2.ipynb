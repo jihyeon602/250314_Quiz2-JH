{
 "cells": [
  {
   "cell_type": "code",
   "execution_count": 6,
   "metadata": {},
   "outputs": [],
   "source": [
    "import pandas as pd\n",
    "import numpy as np\n",
    "\n",
    "DATA_PATH = './data/taxi_fare_data.csv'\n",
    "\n",
    "def load_csv(path):\n",
    "    # pandas를 이용하여 'taxi_fair_data.csv' 데이터를 불러옵니다.\n",
    "    data_frame = pd.read_csv(path)\n",
    "    \n",
    "    return data_frame\n"
   ]
  },
  {
   "cell_type": "code",
   "execution_count": 18,
   "metadata": {},
   "outputs": [
    {
     "name": "stdout",
     "output_type": "stream",
     "text": [
      "<class 'pandas.core.frame.DataFrame'>\n",
      "RangeIndex: 1000 entries, 0 to 999\n",
      "Data columns (total 9 columns):\n",
      " #   Column             Non-Null Count  Dtype  \n",
      "---  ------             --------------  -----  \n",
      " 0   Unnamed: 0         1000 non-null   int64  \n",
      " 1   id                 1000 non-null   int64  \n",
      " 2   pickup_datetime    1000 non-null   object \n",
      " 3   pickup_latitude    1000 non-null   int64  \n",
      " 4   pickup_longitude   1000 non-null   int64  \n",
      " 5   dropoff_latitude   991 non-null    float64\n",
      " 6   dropoff_longitude  992 non-null    float64\n",
      " 7   passenger_count    1000 non-null   int64  \n",
      " 8   fare_amount        1000 non-null   int64  \n",
      "dtypes: float64(2), int64(6), object(1)\n",
      "memory usage: 70.4+ KB\n",
      "None\n",
      "   Unnamed: 0    id   pickup_datetime  pickup_latitude  pickup_longitude  \\\n",
      "0           0  4142  2015-01-07 15:32             -263              -374   \n",
      "1           1  1392  2015-10-21 22:52              -65               -44   \n",
      "2           2  4606   2017-05-07 3:25              442               424   \n",
      "3           3  1600   2017-05-14 9:57             -349               269   \n",
      "4           4  4332  2017-04-11 16:01             -119               264   \n",
      "\n",
      "   dropoff_latitude  dropoff_longitude  passenger_count  fare_amount  \n",
      "0             396.0               67.0               -2           31  \n",
      "1              39.0               62.0                2           74  \n",
      "2             458.0              328.0               -2            6  \n",
      "3            -340.0              143.0               -2           66  \n",
      "4            -243.0              494.0                2           88  \n"
     ]
    }
   ],
   "source": [
    "def statistical_features(data):\n",
    "    # numpy를 이용하여 (리스트)데이터의 통계적 정보를 추출합니다.\n",
    "    \n",
    "    _min = np.min(data)\n",
    "    _max = np.max(data)\n",
    "    _mean = np.mean(data)\n",
    "    _median = np.median(data)\n",
    "    _var = round(np.var(data), 4)\n",
    "    _std = round(np.std(data), 4)\n",
    "    \n",
    "    return _min, _max, _mean, _median, _var, _std\n",
    "\n",
    "df = load_csv(DATA_PATH)\n",
    "#전체 데이터에 대한 요약 정보를 살펴봅니다.\n",
    "print(df.info())\n",
    "print(df.head())\n"
   ]
  },
  {
   "cell_type": "code",
   "execution_count": 19,
   "metadata": {},
   "outputs": [
    {
     "name": "stdout",
     "output_type": "stream",
     "text": [
      "\n",
      "fare_amount의 최솟값: -100 최댓값: 99 평균값: 45.102 중앙값: 48.0 분산값: 1147.2856 표준편차값: 33.8716\n",
      "passenger_count의 최솟값: -2 최댓값: 5 평균값: 1.424 중앙값: 1.0 분산값: 5.1902 표준편차값: 2.2782\n"
     ]
    }
   ],
   "source": [
    "#'fare_amount'변수에 대한 통계적 정보를 살펴봅니다.\n",
    "f_min, f_max, f_mean, f_median, f_var, f_std = statistical_features(df.loc[:,'fare_amount'])\n",
    "print('\\nfare_amount의', '최솟값:', f_min ,'최댓값:', f_max ,'평균값:', f_mean ,'중앙값:', f_median ,'분산값:', f_var ,'표준편차값:', f_std)\n",
    "\n",
    "#'passenger_count'변수에 대한 통계적 정보를 살펴봅니다.\n",
    "p_min, p_max, p_mean, p_median, p_var, p_std = statistical_features(df.loc[:,'passenger_count'])\n",
    "print('passenger_count의', '최솟값:', p_min ,'최댓값:', p_max ,'평균값:', p_mean ,'중앙값:', p_median ,'분산값:', p_var ,'표준편차값:', p_std)\n"
   ]
  }
 ],
 "metadata": {
  "kernelspec": {
   "display_name": "base",
   "language": "python",
   "name": "python3"
  },
  "language_info": {
   "codemirror_mode": {
    "name": "ipython",
    "version": 3
   },
   "file_extension": ".py",
   "mimetype": "text/x-python",
   "name": "python",
   "nbconvert_exporter": "python",
   "pygments_lexer": "ipython3",
   "version": "3.12.7"
  }
 },
 "nbformat": 4,
 "nbformat_minor": 2
}
