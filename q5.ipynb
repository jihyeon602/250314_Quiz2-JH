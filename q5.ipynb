{
  "cells": [
    {
      "cell_type": "code",
      "execution_count": 25,
      "metadata": {
        "id": "7QXNYF8g8ubz"
      },
      "outputs": [],
      "source": [
        "import numpy as np\n",
        "import pandas as pd\n",
        "\n",
        "df = pd.read_csv(\"./taxi_fare_data.csv\", quoting=3)\n",
        "\n",
        "# 불러온 pickup_datetime은 ['2009-06-15 17:26:21 UTC', ...] 과 같은 형태를 지니고 있습니다.\n",
        "pickup_datetime = df['pickup_datetime']"
      ]
    },
    {
      "cell_type": "code",
      "execution_count": 26,
      "metadata": {
        "colab": {
          "base_uri": "https://localhost:8080/",
          "height": 366
        },
        "id": "ULkHhHsC_ypg",
        "outputId": "e4af15f2-056e-49fb-947c-3459e57922bd"
      },
      "outputs": [
        {
          "data": {
            "text/html": [
              "<div>\n",
              "<style scoped>\n",
              "    .dataframe tbody tr th:only-of-type {\n",
              "        vertical-align: middle;\n",
              "    }\n",
              "\n",
              "    .dataframe tbody tr th {\n",
              "        vertical-align: top;\n",
              "    }\n",
              "\n",
              "    .dataframe thead th {\n",
              "        text-align: right;\n",
              "    }\n",
              "</style>\n",
              "<table border=\"1\" class=\"dataframe\">\n",
              "  <thead>\n",
              "    <tr style=\"text-align: right;\">\n",
              "      <th></th>\n",
              "      <th>0</th>\n",
              "    </tr>\n",
              "  </thead>\n",
              "  <tbody>\n",
              "    <tr>\n",
              "      <th>Unnamed: 0</th>\n",
              "      <td>0</td>\n",
              "    </tr>\n",
              "    <tr>\n",
              "      <th>id</th>\n",
              "      <td>0</td>\n",
              "    </tr>\n",
              "    <tr>\n",
              "      <th>pickup_datetime</th>\n",
              "      <td>0</td>\n",
              "    </tr>\n",
              "    <tr>\n",
              "      <th>pickup_latitude</th>\n",
              "      <td>0</td>\n",
              "    </tr>\n",
              "    <tr>\n",
              "      <th>pickup_longitude</th>\n",
              "      <td>0</td>\n",
              "    </tr>\n",
              "    <tr>\n",
              "      <th>dropoff_latitude</th>\n",
              "      <td>9</td>\n",
              "    </tr>\n",
              "    <tr>\n",
              "      <th>dropoff_longitude</th>\n",
              "      <td>8</td>\n",
              "    </tr>\n",
              "    <tr>\n",
              "      <th>passenger_count</th>\n",
              "      <td>0</td>\n",
              "    </tr>\n",
              "    <tr>\n",
              "      <th>fare_amount</th>\n",
              "      <td>0</td>\n",
              "    </tr>\n",
              "  </tbody>\n",
              "</table>\n",
              "</div><br><label><b>dtype:</b> int64</label>"
            ],
            "text/plain": [
              "Unnamed: 0           0\n",
              "id                   0\n",
              "pickup_datetime      0\n",
              "pickup_latitude      0\n",
              "pickup_longitude     0\n",
              "dropoff_latitude     9\n",
              "dropoff_longitude    8\n",
              "passenger_count      0\n",
              "fare_amount          0\n",
              "dtype: int64"
            ]
          },
          "execution_count": 26,
          "metadata": {},
          "output_type": "execute_result"
        }
      ],
      "source": [
        "df.isnull().sum()"
      ]
    },
    {
      "cell_type": "code",
      "execution_count": 27,
      "metadata": {
        "colab": {
          "base_uri": "https://localhost:8080/"
        },
        "id": "teYKbzDmAasr",
        "outputId": "a43a340d-1ca1-474f-9a27-863e0cfcda2d"
      },
      "outputs": [
        {
          "name": "stdout",
          "output_type": "stream",
          "text": [
            "<class 'pandas.core.series.Series'>\n",
            "RangeIndex: 1000 entries, 0 to 999\n",
            "Series name: pickup_datetime\n",
            "Non-Null Count  Dtype \n",
            "--------------  ----- \n",
            "1000 non-null   object\n",
            "dtypes: object(1)\n",
            "memory usage: 7.9+ KB\n"
          ]
        }
      ],
      "source": [
        "df['pickup_datetime'].info()"
      ]
    },
    {
      "cell_type": "code",
      "execution_count": 40,
      "metadata": {
        "colab": {
          "base_uri": "https://localhost:8080/",
          "height": 384
        },
        "id": "RlvWkuiNDtk4",
        "outputId": "124d0cd4-b3d8-4b77-9e4b-f6e5b88876a8"
      },
      "outputs": [
        {
          "name": "stdout",
          "output_type": "stream",
          "text": [
            "datetime64[ns]\n"
          ]
        },
        {
          "data": {
            "text/html": [
              "<div>\n",
              "<style scoped>\n",
              "    .dataframe tbody tr th:only-of-type {\n",
              "        vertical-align: middle;\n",
              "    }\n",
              "\n",
              "    .dataframe tbody tr th {\n",
              "        vertical-align: top;\n",
              "    }\n",
              "\n",
              "    .dataframe thead th {\n",
              "        text-align: right;\n",
              "    }\n",
              "</style>\n",
              "<table border=\"1\" class=\"dataframe\">\n",
              "  <thead>\n",
              "    <tr style=\"text-align: right;\">\n",
              "      <th></th>\n",
              "      <th>0</th>\n",
              "    </tr>\n",
              "  </thead>\n",
              "  <tbody>\n",
              "    <tr>\n",
              "      <th>Unnamed: 0</th>\n",
              "      <td>0</td>\n",
              "    </tr>\n",
              "    <tr>\n",
              "      <th>id</th>\n",
              "      <td>0</td>\n",
              "    </tr>\n",
              "    <tr>\n",
              "      <th>pickup_datetime</th>\n",
              "      <td>0</td>\n",
              "    </tr>\n",
              "    <tr>\n",
              "      <th>pickup_latitude</th>\n",
              "      <td>0</td>\n",
              "    </tr>\n",
              "    <tr>\n",
              "      <th>pickup_longitude</th>\n",
              "      <td>0</td>\n",
              "    </tr>\n",
              "    <tr>\n",
              "      <th>dropoff_latitude</th>\n",
              "      <td>9</td>\n",
              "    </tr>\n",
              "    <tr>\n",
              "      <th>dropoff_longitude</th>\n",
              "      <td>8</td>\n",
              "    </tr>\n",
              "    <tr>\n",
              "      <th>passenger_count</th>\n",
              "      <td>0</td>\n",
              "    </tr>\n",
              "    <tr>\n",
              "      <th>fare_amount</th>\n",
              "      <td>0</td>\n",
              "    </tr>\n",
              "  </tbody>\n",
              "</table>\n",
              "</div><br><label><b>dtype:</b> int64</label>"
            ],
            "text/plain": [
              "Unnamed: 0           0\n",
              "id                   0\n",
              "pickup_datetime      0\n",
              "pickup_latitude      0\n",
              "pickup_longitude     0\n",
              "dropoff_latitude     9\n",
              "dropoff_longitude    8\n",
              "passenger_count      0\n",
              "fare_amount          0\n",
              "dtype: int64"
            ]
          },
          "execution_count": 40,
          "metadata": {},
          "output_type": "execute_result"
        }
      ],
      "source": [
        "#object형식을 datetime64 형식으로 변환\n",
        "df['pickup_datetime'] = pd.to_datetime(df['pickup_datetime'], format=\"%Y-%m-%d %H:%M\", errors='coerce')\n",
        "\n",
        "print(df['pickup_datetime'].dtype)\n",
        "\n",
        "df.dropna(subset=['pickup_datetime'], inplace=True)\n",
        "df.isnull().sum()"
      ]
    },
    {
      "cell_type": "code",
      "execution_count": 44,
      "metadata": {
        "colab": {
          "base_uri": "https://localhost:8080/"
        },
        "id": "uKvZY7SS-18X",
        "outputId": "6f193bf5-84df-4b2e-ccd4-10aa2e44f645"
      },
      "outputs": [
        {
          "name": "stdout",
          "output_type": "stream",
          "text": [
            "['2015-01-07', '2015-10-21', '2017-05-07', '2017-05-14', '2017-04-11', '2015-04-26', '2017-04-09', '2017-10-18', '2015-07-21', '2015-03-04']\n",
            "['15:32', '22:52', '03:25', '09:57', '16:01', '03:51', '13:31', '06:49', '07:55', '14:21']\n"
          ]
        }
      ],
      "source": [
        "# 우선 연월일('YYYY-MM-DD')와 시간('HH:MM:SS')로 나누어 주고 이를 year_date, time 변수로 각각 넣어줍니다.\n",
        "year_date = []\n",
        "time = []\n",
        "\n",
        "for data in df['pickup_datetime']:\n",
        "  year_date.append(data.strftime(\"%Y-%m-%d\"))\n",
        "  time.append(data.strftime(\"%H:%M\"))\n",
        "\n",
        "print(year_date[:10])\n",
        "print(time[:10])"
      ]
    },
    {
      "cell_type": "code",
      "execution_count": 45,
      "metadata": {
        "colab": {
          "base_uri": "https://localhost:8080/"
        },
        "id": "ISRO8o45BCxQ",
        "outputId": "42c0e1f1-dd31-4512-c8fd-e54a9d00e19f"
      },
      "outputs": [
        {
          "name": "stdout",
          "output_type": "stream",
          "text": [
            "[2015, 2015, 2017, 2017, 2017, 2015, 2017, 2017, 2015, 2015]\n",
            "[1, 10, 5, 5, 4, 4, 4, 10, 7, 3]\n",
            "[7, 21, 7, 14, 11, 26, 9, 18, 21, 4]\n",
            "[15, 22, 3, 9, 16, 3, 13, 6, 7, 14]\n"
          ]
        }
      ],
      "source": [
        "# 연월일 변수에서 각각의 '연도', '월', '일'을 추출하여 years, months, days 변수에 넣어줍니다.\n",
        "years = []\n",
        "months = []\n",
        "days = []\n",
        "\n",
        "for data in year_date:\n",
        "    dt = pd.to_datetime(data, format=\"%Y-%m-%d\", errors='coerce')\n",
        "    years.append(dt.year)\n",
        "    months.append(dt.month)\n",
        "    days.append(dt.day)\n",
        "\n",
        "#시간만 따로 int의 형태로 추출합니다.\n",
        "hours = [int(t.split(\":\")[0]) for t in time]\n",
        "\n",
        "#각 변수의 상위 10개씩만 출력해서 추출이 제대로 되었는지 확인해봅시다.\n",
        "print(years[:10])\n",
        "print(months[:10])\n",
        "print(days[:10])\n",
        "print(hours[:10])"
      ]
    }
  ],
  "metadata": {
    "colab": {
      "authorship_tag": "ABX9TyNQ4JFEwGGM1lEpbiEz0bEa",
      "provenance": []
    },
    "kernelspec": {
      "display_name": "base",
      "language": "python",
      "name": "python3"
    },
    "language_info": {
      "name": "python",
      "version": "3.12.7"
    }
  },
  "nbformat": 4,
  "nbformat_minor": 0
}
