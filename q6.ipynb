{
  "cells": [
    {
      "cell_type": "code",
      "execution_count": 2,
      "metadata": {
        "colab": {
          "base_uri": "https://localhost:8080/"
        },
        "id": "_oJe0OTcH4X7",
        "outputId": "2fa43bfb-4922-4b64-8c2d-1fabd90f066f"
      },
      "outputs": [
        {
          "name": "stdout",
          "output_type": "stream",
          "text": [
            "추가 전\n",
            "    PassengerId                                               Name     Sex  \\\n",
            "0           25                      Palsson, Miss. Torborg Danira  female   \n",
            "1           26  Asplund, Mrs. Carl Oscar (Selma Augusta Emilia...  female   \n",
            "2           28                     Fortune, Mr. Charles Alexander    male   \n",
            "3           31                           Uruchurtu, Don. Manuel E    male   \n",
            "4           34                              Wheadon, Mr. Edward H    male   \n",
            "\n",
            "    Age  \n",
            "0   8.0  \n",
            "1  38.0  \n",
            "2  19.0  \n",
            "3  40.0  \n",
            "4  66.0  \n",
            "추가 후\n",
            "    PassengerId                                               Name     Sex  \\\n",
            "0           25                      Palsson, Miss. Torborg Danira  female   \n",
            "1           26  Asplund, Mrs. Carl Oscar (Selma Augusta Emilia...  female   \n",
            "2           28                     Fortune, Mr. Charles Alexander    male   \n",
            "3           31                           Uruchurtu, Don. Manuel E    male   \n",
            "4           34                              Wheadon, Mr. Edward H    male   \n",
            "\n",
            "    Age   Type  \n",
            "0   8.0   girl  \n",
            "1  38.0  adult  \n",
            "2  19.0  adult  \n",
            "3  40.0  adult  \n",
            "4  66.0  adult  \n"
          ]
        }
      ],
      "source": [
        "import numpy as np\n",
        "import pandas as pd\n",
        "\n",
        "DATA_PATH = \"./data/data.csv\"\n",
        "\n",
        "\n",
        "def get_data() -> pd.DataFrame:\n",
        "    \"데이터를 불러오는 함수\"\n",
        "\n",
        "    df = pd.read_csv(DATA_PATH)\n",
        "    return df\n",
        "\n",
        "\n",
        "def add_type(df: pd.DataFrame) -> pd.DataFrame:\n",
        "    \"지시사항에 따라 df에 Type칼럼을 추가하고 반환합니다.\"\n",
        "\n",
        "    df[\"Type\"] = np.where(df[\"Age\"] >= 19, \"adult\",\n",
        "                          np.where(df[\"Sex\"] == \"female\", \"girl\", \"boy\"))\n",
        "\n",
        "    return df\n",
        "\n",
        "def main():\n",
        "    # 데이터 불러오기\n",
        "    df = get_data()\n",
        "    print(\"추가 전\\n\", df.head())\n",
        "\n",
        "    # 1. 새로운 특성 생성\n",
        "    df_new = add_type(df.copy())\n",
        "    print(\"추가 후\\n\", df_new.head())\n",
        "\n",
        "\n",
        "if __name__ == \"__main__\":\n",
        "    main()\n"
      ]
    }
  ],
  "metadata": {
    "colab": {
      "authorship_tag": "ABX9TyPZmexVW7Vq2FP8eu9UKpni",
      "provenance": []
    },
    "kernelspec": {
      "display_name": "base",
      "language": "python",
      "name": "python3"
    },
    "language_info": {
      "codemirror_mode": {
        "name": "ipython",
        "version": 3
      },
      "file_extension": ".py",
      "mimetype": "text/x-python",
      "name": "python",
      "nbconvert_exporter": "python",
      "pygments_lexer": "ipython3",
      "version": "3.12.7"
    }
  },
  "nbformat": 4,
  "nbformat_minor": 0
}
