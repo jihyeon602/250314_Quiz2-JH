{
  "nbformat": 4,
  "nbformat_minor": 0,
  "metadata": {
    "colab": {
      "provenance": [],
      "gpuType": "T4",
      "authorship_tag": "ABX9TyMQQr13AiqocHUoNE+AXEAA"
    },
    "kernelspec": {
      "name": "python3",
      "display_name": "Python 3"
    },
    "language_info": {
      "name": "python"
    },
    "accelerator": "GPU"
  },
  "cells": [
    {
      "cell_type": "code",
      "execution_count": 1,
      "metadata": {
        "id": "mWVbFTIWSWgb"
      },
      "outputs": [],
      "source": [
        "import pandas as pd\n",
        "\n",
        "WEEK_KOR = {0: \"월\", 1: \"화\", 2: \"수\", 3: \"목\", 4: \"금\", 5: \"토\", 6: \"일\"}\n"
      ]
    },
    {
      "cell_type": "code",
      "source": [
        "def load_csv(path: str) -> pd.DataFrame:\n",
        "    \"\"\"pandas를 이용하여 path의 데이터를 DataFrame의 형태로 반환합니다.\"\"\"\n",
        "    df = pd.read_csv(path)\n",
        "    return df\n",
        "\n",
        "\n",
        "def cvt_to_datetime(df: pd.DataFrame) -> pd.DataFrame:\n",
        "    \"\"\"df의 DateTime 칼럼을 datetime 형태로 변환합니다.\"\"\"\n",
        "    df[\"DateTime\"] = pd.to_datetime(df[\"DateTime\"], errors=\"coerce\")\n",
        "    return df\n",
        "\n",
        "\n",
        "def add_dayofweek(df: pd.DataFrame) -> pd.DataFrame:\n",
        "    \"\"\"df에 DateTime 칼럼의 요일이 저장된 \"요일\" 칼럼을 새로 추가합니다.\"\"\"\n",
        "    df[\"요일\"] = df[\"DateTime\"].dt.weekday.map(WEEK_KOR)\n",
        "    return df\n",
        "\n",
        "\n",
        "def get_mean_consumption(df: pd.DataFrame) -> pd.Series:\n",
        "    \"\"\"df의 요일별 전력 소비량의 평균을 구하여 반환합니다.\"\"\"\n",
        "    series_mean = df.groupby(\"요일\")[\"Consumption\"].mean()\n",
        "    return series_mean\n",
        "\n",
        "\n",
        "def main():\n",
        "    # 데이터 경로\n",
        "    data_path = \"./electronic.csv\"\n",
        "\n",
        "    # 데이터 불러오기\n",
        "    df = load_csv(data_path)\n",
        "\n",
        "    # 1. DateTime 칼럼을 datetime 형태로 변환\n",
        "    df = cvt_to_datetime(df)\n",
        "    print(df)\n",
        "\n",
        "    # 2. 요일 칼럼 추가\n",
        "    df = add_dayofweek(df)\n",
        "    print(df)\n",
        "\n",
        "    # 3. 요일별 전력 소비량의 평균 구하기\n",
        "    s_mean = get_mean_consumption(df)\n",
        "    print(s_mean)\n",
        "\n",
        "\n",
        "if __name__ == \"__main__\":\n",
        "    main()"
      ],
      "metadata": {
        "id": "VaXl0qlzU9gl",
        "colab": {
          "base_uri": "https://localhost:8080/"
        },
        "outputId": "dd5bee0a-662b-455e-aee5-048d7c54cd9c"
      },
      "execution_count": 11,
      "outputs": [
        {
          "output_type": "stream",
          "name": "stdout",
          "text": [
            "                 DateTime  Consumption  Production  Nuclear  Wind  \\\n",
            "0     2019-01-01 00:00:00         6352        6527     1395    79   \n",
            "1     2019-01-01 01:00:00         6116        5701     1393    96   \n",
            "2     2019-01-01 02:00:00         5873        5676     1393   142   \n",
            "3     2019-01-01 03:00:00         5682        5603     1397   191   \n",
            "4     2019-01-01 04:00:00         5557        5454     1393   159   \n",
            "...                   ...          ...         ...      ...   ...   \n",
            "36767 2023-03-12 19:00:00         6500        6643     1407   111   \n",
            "36768 2023-03-12 20:00:00         6471        6484     1408    58   \n",
            "36769 2023-03-12 21:00:00         6194        6413     1406    39   \n",
            "36770 2023-03-12 22:00:00         5708        6217     1406     8   \n",
            "36771 2023-03-12 23:00:00         5409        5900     1403     0   \n",
            "\n",
            "       Hydroelectric  Oil and Gas  Coal  Solar  Biomass  \n",
            "0               1383         1896  1744      0       30  \n",
            "1               1112         1429  1641      0       30  \n",
            "2               1030         1465  1616      0       30  \n",
            "3                972         1455  1558      0       30  \n",
            "4                960         1454  1458      0       30  \n",
            "...              ...          ...   ...    ...      ...  \n",
            "36767           3084          933  1047      0       60  \n",
            "36768           2983          933  1042      0       60  \n",
            "36769           2938          935  1031      0       62  \n",
            "36770           2823          917  1001      0       61  \n",
            "36771           2492          914  1030      0       60  \n",
            "\n",
            "[36772 rows x 10 columns]\n",
            "                 DateTime  Consumption  Production  Nuclear  Wind  \\\n",
            "0     2019-01-01 00:00:00         6352        6527     1395    79   \n",
            "1     2019-01-01 01:00:00         6116        5701     1393    96   \n",
            "2     2019-01-01 02:00:00         5873        5676     1393   142   \n",
            "3     2019-01-01 03:00:00         5682        5603     1397   191   \n",
            "4     2019-01-01 04:00:00         5557        5454     1393   159   \n",
            "...                   ...          ...         ...      ...   ...   \n",
            "36767 2023-03-12 19:00:00         6500        6643     1407   111   \n",
            "36768 2023-03-12 20:00:00         6471        6484     1408    58   \n",
            "36769 2023-03-12 21:00:00         6194        6413     1406    39   \n",
            "36770 2023-03-12 22:00:00         5708        6217     1406     8   \n",
            "36771 2023-03-12 23:00:00         5409        5900     1403     0   \n",
            "\n",
            "       Hydroelectric  Oil and Gas  Coal  Solar  Biomass 요일  \n",
            "0               1383         1896  1744      0       30  화  \n",
            "1               1112         1429  1641      0       30  화  \n",
            "2               1030         1465  1616      0       30  화  \n",
            "3                972         1455  1558      0       30  화  \n",
            "4                960         1454  1458      0       30  화  \n",
            "...              ...          ...   ...    ...      ... ..  \n",
            "36767           3084          933  1047      0       60  일  \n",
            "36768           2983          933  1042      0       60  일  \n",
            "36769           2938          935  1031      0       62  일  \n",
            "36770           2823          917  1001      0       61  일  \n",
            "36771           2492          914  1030      0       60  일  \n",
            "\n",
            "[36772 rows x 11 columns]\n",
            "요일\n",
            "금    6931.342656\n",
            "목    6994.485540\n",
            "수    6988.416286\n",
            "월    6763.573968\n",
            "일    5885.039734\n",
            "토    6420.559551\n",
            "화    6972.936834\n",
            "Name: Consumption, dtype: float64\n"
          ]
        }
      ]
    }
  ]
}