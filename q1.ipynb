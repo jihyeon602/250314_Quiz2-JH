{
 "cells": [
  {
   "cell_type": "code",
   "execution_count": null,
   "metadata": {},
   "outputs": [
    {
     "name": "stdout",
     "output_type": "stream",
     "text": [
      "[[0.79211379 0.35634382 0.37483894]\n",
      " [0.4626749  0.52203705 0.38400656]\n",
      " [0.79319508 0.72681727 0.48683832]\n",
      " [0.92366216 0.0964799  0.87597742]\n",
      " [0.36364499 0.28874085 0.80356184]\n",
      " [0.95828734 0.79061922 0.11789047]\n",
      " [0.48671499 0.96679234 0.49182904]\n",
      " [0.62406723 0.9265309  0.9411213 ]\n",
      " [0.32699222 0.03696636 0.9714859 ]\n",
      " [0.63526741 0.02450422 0.16932897]\n",
      " [0.76569024 0.72570785 0.15525492]\n",
      " [0.46839877 0.58214822 0.27649133]\n",
      " [0.09616726 0.58044367 0.04356475]\n",
      " [0.98753146 0.06597794 0.54029077]\n",
      " [0.55589236 0.00756584 0.05176549]\n",
      " [0.1045426  0.84909151 0.76070509]\n",
      " [0.92645285 0.28965314 0.82050345]\n",
      " [0.36410704 0.94768542 0.52990813]\n",
      " [0.79841296 0.67873465 0.43858135]\n",
      " [0.82348134 0.00793454 0.18793654]\n",
      " [0.22645276 0.71499609 0.61116234]\n",
      " [0.02189418 0.66580712 0.14076678]\n",
      " [0.05028964 0.02431606 0.76494132]\n",
      " [0.78658545 0.90926337 0.80476923]\n",
      " [0.16276942 0.81905724 0.51363611]\n",
      " [0.40500383 0.35533087 0.94032455]\n",
      " [0.7150688  0.169567   0.91903852]\n",
      " [0.4916647  0.43853927 0.66707375]\n",
      " [0.92933652 0.64166428 0.33226467]\n",
      " [0.44785189 0.50344607 0.04811888]\n",
      " [0.2862336  0.54611771 0.7052106 ]\n",
      " [0.20021219 0.29980658 0.86027964]\n",
      " [0.92655983 0.32964545 0.27532334]\n",
      " [0.16432504 0.98866436 0.76906176]\n",
      " [0.72695982 0.26337371 0.11078283]\n",
      " [0.3571792  0.08046306 0.54180193]\n",
      " [0.95563078 0.74776045 0.52928359]\n",
      " [0.71128617 0.49610112 0.4779885 ]\n",
      " [0.55916457 0.19582621 0.98694122]\n",
      " [0.21720644 0.84717258 0.86373013]] (40, 3)\n",
      "[0.4457147  0.89670612 0.3254487  0.65302536 0.78442204 0.24744113\n",
      " 0.84446377 0.14823949 0.7369815  0.93707183 0.25367183 0.60592445\n",
      " 0.8725513  0.43427642 0.0763867  0.78944623 0.84337022 0.74833677\n",
      " 0.09648947 0.00617376 0.25073058 0.39911421 0.28301501 0.92474437\n",
      " 0.35730229 0.55447356 0.2468579  0.63597594 0.55263846 0.65034074\n",
      " 0.2134717  0.53442199 0.13948063 0.8465132  0.31426184 0.70375413\n",
      " 0.32613857 0.29091246 0.28103285 0.65498302] (40,)\n"
     ]
    }
   ],
   "source": [
    "import numpy as np\n",
    "from sklearn.model_selection import train_test_split\n",
    "\n",
    "# 랜덤한 [40,4] 크기의 dataset 생성\n",
    "dataset = np.random.random([40,4]) \n",
    "\n",
    "# 1. dataset의 0번부터 2번 column 인덱스까지의 배열을 feature로 저장합니다.\n",
    "feature = dataset[:,:3]\n",
    "# 2. dataset의 마지막 column 인덱스의 column 벡터를 label로 저장합니다.\n",
    "label = dataset[:,-1]\n",
    "\n",
    "print(feature, feature.shape) #40,3\n",
    "print(label, label.shape) #40,"
   ]
  },
  {
   "cell_type": "code",
   "execution_count": null,
   "metadata": {},
   "outputs": [
    {
     "name": "stdout",
     "output_type": "stream",
     "text": [
      "Case 1.\n",
      "X_train shape : (30, 3)\n",
      "X_test shape : (10, 3)\n",
      "Y_train shape : (30,)\n",
      "Y_test shape : (10,)\n"
     ]
    }
   ],
   "source": [
    "# 전체 데이터를 학습 데이터와 검증 데이터로 나눕니다.\n",
    "# 3. 테스트용 데이터의 크기를 0.25로 하여 전체 데이터를 분리합니다.random_state는 121을 입력합니다.\n",
    "X_train, X_test, Y_train, Y_test = train_test_split(feature, label, test_size=0.25, random_state=121)\n",
    "\n",
    "# 분리된 데이터의 크기들을 출력\n",
    "print(\"Case 1.\")\n",
    "print(\"X_train shape : {}\".format(X_train.shape)) #30, 3\n",
    "print(\"X_test shape : {}\".format(X_test.shape)) #10, 3\n",
    "print(\"Y_train shape : {}\".format(Y_train.shape)) #30,\n",
    "print(\"Y_test shape : {}\".format(Y_test.shape)) #10, "
   ]
  },
  {
   "cell_type": "code",
   "execution_count": null,
   "metadata": {},
   "outputs": [
    {
     "name": "stdout",
     "output_type": "stream",
     "text": [
      "\n",
      "Case 2.\n",
      "X_train_2 shape : (28, 3)\n",
      "X_test_2 shape : (12, 3)\n",
      "Y_train_2 shape : (28,)\n",
      "Y_test_2 shape : (12,)\n"
     ]
    }
   ],
   "source": [
    "# 4. shuffle을 하지 않고 test_size를 0.3으로 하여 학습용 데이터와 테스트용 데이터를 분리합니다. random_state는 121을 입력합니다.\n",
    "X_train_2, X_test_2, Y_train_2, Y_test_2 = train_test_split(feature, label, test_size=0.3, random_state=121, shuffle=False)\n",
    "\n",
    "# 분리된 데이터의 크기들을 출력\n",
    "print(\"\\nCase 2.\")\n",
    "print(\"X_train_2 shape : {}\".format(X_train_2.shape))  #28,3\n",
    "print(\"X_test_2 shape : {}\".format(X_test_2.shape)) #12, 3\n",
    "print(\"Y_train_2 shape : {}\".format(Y_train_2.shape)) #28,\n",
    "print(\"Y_test_2 shape : {}\".format(Y_test_2.shape)) #12,\n"
   ]
  }
 ],
 "metadata": {
  "kernelspec": {
   "display_name": "base",
   "language": "python",
   "name": "python3"
  },
  "language_info": {
   "codemirror_mode": {
    "name": "ipython",
    "version": 3
   },
   "file_extension": ".py",
   "mimetype": "text/x-python",
   "name": "python",
   "nbconvert_exporter": "python",
   "pygments_lexer": "ipython3",
   "version": "3.12.7"
  }
 },
 "nbformat": 4,
 "nbformat_minor": 2
}
